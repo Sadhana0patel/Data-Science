{
 "cells": [
  {
   "cell_type": "markdown",
   "metadata": {},
   "source": [
    "#1.In the below  elements which of them are values or an expression ?eg:-values can be integer or string and expressions will be mathematical operators.\n",
    "* -->expression\n",
    "'hello' -->Value\n",
    "-87.8 -->Value\n",
    "- -->expression\n",
    "/ -->expression\n",
    "+ -->expression\n",
    "6 -->Value\n"
   ]
  },
  {
   "cell_type": "markdown",
   "metadata": {},
   "source": [
    "#2.What is the difference between string and variable?\n",
    " Variable : Vaiable is the name given to the primary memory of your computer. it can be chosen by us. \n",
    " A variable can store everything from strings to numbers.\n",
    " Example: Number=1234\n",
    " String: A string is the values inside the quotes assigned to a string.\n",
    " Example: Name=\"abcd\""
   ]
  },
  {
   "cell_type": "markdown",
   "metadata": {},
   "source": [
    "#3.Describe three different datatypes\n",
    "data types in Python are:\n",
    "\n",
    "Numeric-Integer,complex,float\n",
    "Sequence Type-List,Tuple,Dictonary\n",
    "Boolean\n",
    "Set\n",
    "Dictionary"
   ]
  },
  {
   "cell_type": "markdown",
   "metadata": {},
   "source": [
    "List:-It is a collection of different data type which can hold ,integer,real,string,tuple,dictonary,boolean etc.\n",
    "we can access the element with respect to index.\n",
    "it is represent is \"[]\" \n",
    "list is mutable ,i.e after creating the list we can modify the list element.\n",
    "Example:list1= [\"abc\",12,1.34,True,[1,2,3]]\n",
    "\n",
    "Tuple:-It is a collection of different data type which can hold ,integer,real,string,tuple,dictonary,boolean etc.\n",
    "we can access the element with respect to index.\n",
    "it is represent is \"()\" \n",
    "Tuple is immutable ,i.e after creating the list we can't modify the tuple element.\n",
    "Example:tuple1= (\"abc\",12,1.34,True,[1,2,3])\n",
    "\n",
    "Dictonary:-It is a collection of different data type with Key-Value paire .\n",
    "we can access the element with the halp of key and Value.\n",
    "it is represent is \"{}\" \n",
    "In Dictonary key should be Immutable .\n",
    "Example:Dic1= {\"k1\":123 ,\"k2\":[1,2,3], 12:\"abc\"}"
   ]
  },
  {
   "cell_type": "markdown",
   "metadata": {},
   "source": [
    "#4.What is an expression made up of? What do all expressions do?\n",
    "Expressions are combinations of values and operators and always evaluate down to a single value."
   ]
  },
  {
   "cell_type": "markdown",
   "metadata": {},
   "source": [
    "#5.This assignment statements,like spam=10.What is the difference between an expression and a statement\n",
    "An expression in C is a combination of operands and operators – it computes a single value stored in a variable. The operator denotes the action or operation to be performed.\n",
    "A statement is a command given to the computer that instructs the computer to take a specific action, such as display to the screen, or collect input.."
   ]
  },
  {
   "cell_type": "markdown",
   "metadata": {},
   "source": [
    "#6.After running the following code,what does the variable bacon contain?\n",
    "bacon=22\n",
    "bacon+1 #becon=becon+1\n",
    "becon will hold 23."
   ]
  },
  {
   "cell_type": "markdown",
   "metadata": {},
   "source": [
    "#7.What should the values of the following two terms be?\n",
    "'spam'+'spamspam'-->spamspamspam\n",
    "'spam'*3 -->spamspamspam"
   ]
  },
  {
   "cell_type": "markdown",
   "metadata": {},
   "source": [
    "#8.Why is eggs a valid variable name while 100 is invalid?\n",
    "A variable name must start with a letter or the underscore character.\n",
    "A variable name cannot start with a number.\n",
    "A variable name can only contain alpha-numeric characters and underscores (A-z, 0-9, and _ )\n",
    "Variable names are case-sensitive.\n",
    "so eggs is valid variable name and 100 is invalid varible name."
   ]
  },
  {
   "cell_type": "markdown",
   "metadata": {},
   "source": [
    "#9.What three functions can be used to get the integer,floating-point number,or string version of a value\n",
    "Integer :int() , \n",
    "Floating-point :float() , \n",
    "string :str( )"
   ]
  },
  {
   "cell_type": "markdown",
   "metadata": {},
   "source": [
    "#10.Whydoesthisexpressioncauseanerror?Howcanyoufixit?\n",
    "   'I have eaten'+99+'burritos.--> 'I have eaten' + 99 + 'burritos' \n",
    "   because 99 is an integer it cannot be concatenated with strings, if we have to concatenate it we need to do typecasting."
   ]
  }
 ],
 "metadata": {
  "kernelspec": {
   "display_name": "Python 3",
   "language": "python",
   "name": "python3"
  },
  "language_info": {
   "codemirror_mode": {
    "name": "ipython",
    "version": 3
   },
   "file_extension": ".py",
   "mimetype": "text/x-python",
   "name": "python",
   "nbconvert_exporter": "python",
   "pygments_lexer": "ipython3",
   "version": "3.7.4"
  }
 },
 "nbformat": 4,
 "nbformat_minor": 2
}
