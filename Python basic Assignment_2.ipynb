{
 "cells": [
  {
   "cell_type": "markdown",
   "metadata": {},
   "source": [
    "#1.What are the two values of the Boolean data type? How do you write them?\n",
    "There are two Boolean. values: True and False. Values in Python can be compared using comparison operations, and Boolean logic can be formulated with the use of logic operations.\n"
   ]
  },
  {
   "cell_type": "markdown",
   "metadata": {},
   "source": [
    "#2. What are the three different types of Boolean operators?\n",
    "The three basic boolean operators are: AND, OR, and NOT."
   ]
  },
  {
   "cell_type": "markdown",
   "metadata": {},
   "source": [
    "#3. Make a list of each Boolean operator's truth tables (i.e. every possible combination of Boolean values for the operator and what it evaluate ).\n",
    "A truth table is a mathematical table used in logic.\n",
    "OR :           \n",
    "a b  aorb\n",
    "0 0  0\n",
    "0 1  1\n",
    "1 0  1\n",
    "1 1  1\n",
    "\n",
    "AND\n",
    "a b  aandb\n",
    "0 0  0\n",
    "0 1  0\n",
    "1 0  0\n",
    "1 1  1\n",
    "\n",
    "NOT\n",
    "a nota\n",
    "0  1\n",
    "1  0"
   ]
  },
  {
   "cell_type": "markdown",
   "metadata": {},
   "source": [
    "#4. What are the values of the following expressions?\n",
    "(5 > 4) and (3 == 5)--->True and False--->False\n",
    "not (5 > 4)--->not(True)--->False\n",
    "(5 > 4) or (3 == 5)--->True or False--->True\n",
    "not ((5 > 4) or (3 == 5))--->not (True or False)--->not(True)--->False\n",
    "(True and True) and (True == False)--->True and False--->False\n",
    "(not False) or (not True)--->True or False--->True\n"
   ]
  },
  {
   "cell_type": "markdown",
   "metadata": {},
   "source": [
    "#5. What are the six comparison operators?\n",
    "Python has six comparison operators: \n",
    "less than ( < ), \n",
    "less than or equal to ( <= ),\n",
    "greater than ( > ), \n",
    "greater than or equal to ( >= ), \n",
    "equal to ( == ), and \n",
    "not equal to ( != ).\n"
   ]
  },
  {
   "cell_type": "markdown",
   "metadata": {},
   "source": [
    "#6. How do you tell the difference between the equal to and assignment operators?Describe a condition and when you would use one.\n",
    "The “=” is an assignment operator is used to assign the value on the right to the variable on the left.\n",
    "Example: number=10\n",
    "The '==' operator checks whether the two given operands are equal or not. If so, it returns true. Otherwise it returns false.\n",
    "Example: a=10,b=20\n",
    "if (a==b):\n",
    "    {\n",
    "        pass\n",
    "    }\n",
    "else:\n",
    "    {\n",
    "        pass\n",
    "    }\n",
    "       "
   ]
  },
  {
   "cell_type": "markdown",
   "metadata": {},
   "source": [
    "#7. Identify the three blocks in this code:\n",
    "spam = 0\n",
    "if spam == 10:\n",
    "print('eggs')\n",
    "if spam > 5:\n",
    "print('bacon')\n",
    "else:\n",
    "print('ham')\n",
    "print('spam')\n",
    "print('spam')\n",
    "\n",
    "\n",
    "\n",
    "spam = 0\n",
    "if spam == 10:\n",
    "    print('eggs')        # indent increased, block A\n",
    "    if spam > 5:         # still block A\n",
    "        print('bacon')   # still block A, block B inside block A\n",
    "    else:                # still block A, block B ended \n",
    "        print('ham')     # still block A, block C inside block A\n",
    "    print('spam')        # still block A, block C ended\n",
    "print('spam')            # block A ended\n"
   ]
  },
  {
   "cell_type": "markdown",
   "metadata": {},
   "source": [
    "#8. Write code that prints Hello if 1 is stored in spam, prints Howdy if 2 is stored in spam, and prints Greetings! if anything else is stored in spam.\n",
    "if spam == 1:\n",
    "    print('Hello')\n",
    "elif spam == 2:\n",
    "    print('Howdy')\n",
    "else:\n",
    "    print('Greetings!')"
   ]
  },
  {
   "cell_type": "markdown",
   "metadata": {},
   "source": [
    "#9.If your programme is stuck in an endless loop, what keys you’ll press?\n",
    "Press CTRL-C to stop a program stuck in an infinite loop."
   ]
  },
  {
   "cell_type": "markdown",
   "metadata": {},
   "source": [
    "#10. How can you tell the difference between break and continue?\n",
    "\n",
    "Break Statement\t\n",
    "The break statement will move the execution outside and just after a loop.\n",
    "The break statement is usually used with the switch statement, and it can also use it within the while loop, do-while loop, or the for-loop.\n",
    "\n",
    "Continue Statement\n",
    "continue statement will move the execution to the start of the loop.\n",
    "The continue statement is not used with the switch statement, but it can be used within the while loop, do-while loop, or for-loop."
   ]
  },
  {
   "cell_type": "markdown",
   "metadata": {},
   "source": [
    "#11. In a for loop, what is the difference between range(10), range(0, 10), and range(0, 10, 1)?\n",
    "\n",
    "They all do the same thing. The range(10) call ranges from 0 up to (but not including) 10,\n",
    "range(0, 10) explicitly tells the loop to start at 0, and \n",
    "range(0, 10, 1) explicitly tells the loop to increase the variable by 1 on each iteration."
   ]
  },
  {
   "cell_type": "markdown",
   "metadata": {},
   "source": [
    "#12. Write a short program that prints the numbers 1 to 10 using a for loop. Then write an equivalent program that prints the numbers 1 to 10 using a while loop.\n",
    "\n",
    "using For loop:\n",
    "for i in range(1, 11):\n",
    "    print(i)    \n",
    "\n",
    "using while loop:\n",
    "i = 1\n",
    "while i <= 10:\n",
    "    print(i)\n",
    "    i = i + 1"
   ]
  },
  {
   "cell_type": "markdown",
   "metadata": {},
   "source": [
    "#13. If you had a function named bacon() inside a module named spam, how would you call it after importing spam?\n",
    "\n",
    "This function can be called with spam.bacon()."
   ]
  }
 ],
 "metadata": {
  "kernelspec": {
   "display_name": "Python 3",
   "language": "python",
   "name": "python3"
  },
  "language_info": {
   "codemirror_mode": {
    "name": "ipython",
    "version": 3
   },
   "file_extension": ".py",
   "mimetype": "text/x-python",
   "name": "python",
   "nbconvert_exporter": "python",
   "pygments_lexer": "ipython3",
   "version": "3.7.4"
  }
 },
 "nbformat": 4,
 "nbformat_minor": 2
}
